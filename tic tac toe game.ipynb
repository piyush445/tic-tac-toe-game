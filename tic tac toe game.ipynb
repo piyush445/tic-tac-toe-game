{
 "cells": [
  {
   "cell_type": "code",
   "execution_count": 2,
   "metadata": {},
   "outputs": [],
   "source": [
    "def display(board):\n",
    "    x=1\n",
    "    while x<=9:\n",
    "        if x%3==0:\n",
    "            print(board[x],end=\" \")\n",
    "            x=x+1\n",
    "            print(\"\\n\")\n",
    "            continue\n",
    "        else:    \n",
    "            print(board[x],end=\" \")\n",
    "            x+=1\n",
    "            "
   ]
  },
  {
   "cell_type": "code",
   "execution_count": null,
   "metadata": {},
   "outputs": [],
   "source": []
  },
  {
   "cell_type": "code",
   "execution_count": 3,
   "metadata": {},
   "outputs": [],
   "source": [
    "def player_input():\n",
    "    marker =\"\"\n",
    "    while marker not in [\"O\",\"X\"]:\n",
    "        marker=input(\"player1,input your character X or O:\").upper()\n",
    "    if marker==\"O\":\n",
    "        return ('O','X')\n",
    "    else:\n",
    "        return ('X','O')"
   ]
  },
  {
   "cell_type": "code",
   "execution_count": 4,
   "metadata": {},
   "outputs": [
    {
     "name": "stdout",
     "output_type": "stream",
     "text": [
      "player1,input your character X or O:x\n"
     ]
    },
    {
     "data": {
      "text/plain": [
       "('X', 'O')"
      ]
     },
     "execution_count": 4,
     "metadata": {},
     "output_type": "execute_result"
    }
   ],
   "source": [
    "player_input()"
   ]
  },
  {
   "cell_type": "code",
   "execution_count": 14,
   "metadata": {},
   "outputs": [],
   "source": [
    "def check_win(board1,mark):\n",
    "    return ((board[7] == mark and board[8] == mark and board[9] == mark) or # across the top\n",
    "    (board[4] == mark and board[5] == mark and board[6] == mark) or # across the middle\n",
    "    (board[1] == mark and board[2] == mark and board[3] == mark) or # across the bottom\n",
    "    (board[7] == mark and board[4] == mark and board[1] == mark) or # down the middle\n",
    "    (board[8] == mark and board[5] == mark and board[2] == mark) or     # down the middle\n",
    "    (board[9] == mark and board[6] == mark and board[3] == mark) or # down the right side\n",
    "    (board[7] == mark and board[5] == mark and board[3] == mark) or # diagonal\n",
    "    (board[9] == mark and board[5] == mark and board[1] == mark)) # diagonal\n"
   ]
  },
  {
   "cell_type": "code",
   "execution_count": 6,
   "metadata": {},
   "outputs": [],
   "source": [
    "def place_marker(board,position,marker):\n",
    "    board[position]= marker\n",
    "    "
   ]
  },
  {
   "cell_type": "code",
   "execution_count": 12,
   "metadata": {},
   "outputs": [],
   "source": [
    "def player_choice(board):\n",
    "    while True:\n",
    "        position=int(input(\"enter ur position\"))\n",
    "        if position not in board:\n",
    "            continue\n",
    "        else:\n",
    "            return position"
   ]
  },
  {
   "cell_type": "code",
   "execution_count": 8,
   "metadata": {},
   "outputs": [],
   "source": [
    "from random import randint\n",
    "def player_turn():\n",
    "    turn=randint(0,1)\n",
    "    if turn==0:\n",
    "        return 'player1'\n",
    "    else:\n",
    "        return 'player2'"
   ]
  },
  {
   "cell_type": "code",
   "execution_count": 9,
   "metadata": {},
   "outputs": [],
   "source": [
    "def full_board_check(board):\n",
    "    for i in range(1,10):\n",
    "        if i in board:\n",
    "            return False\n",
    "        else:\n",
    "            i+=1\n",
    "    return True   "
   ]
  },
  {
   "cell_type": "code",
   "execution_count": 10,
   "metadata": {},
   "outputs": [],
   "source": [
    "def replay():\n",
    "    p=input(\"do u want to play again say yes or no\")[0]\n",
    "    if p=='y':\n",
    "        return True\n",
    "    else:\n",
    "        return False"
   ]
  },
  {
   "cell_type": "code",
   "execution_count": null,
   "metadata": {},
   "outputs": [
    {
     "name": "stdout",
     "output_type": "stream",
     "text": [
      "player1,input your character X or O:x\n",
      "player1 will start the game\n",
      "do you want to start the game,enter yes or noyes\n",
      "1 2 3 \n",
      "\n",
      "4 5 6 \n",
      "\n",
      "7 8 9 \n",
      "\n",
      "enter ur position1\n",
      "X 2 3 \n",
      "\n",
      "4 5 6 \n",
      "\n",
      "7 8 9 \n",
      "\n",
      "enter ur position2\n",
      "X O 3 \n",
      "\n",
      "4 5 6 \n",
      "\n",
      "7 8 9 \n",
      "\n",
      "enter ur position3\n",
      "X O X \n",
      "\n",
      "4 5 6 \n",
      "\n",
      "7 8 9 \n",
      "\n",
      "enter ur position4\n",
      "X O X \n",
      "\n",
      "O 5 6 \n",
      "\n",
      "7 8 9 \n",
      "\n",
      "enter ur position5\n",
      "X O X \n",
      "\n",
      "O X 6 \n",
      "\n",
      "7 8 9 \n",
      "\n",
      "enter ur position6\n",
      "X O X \n",
      "\n",
      "O X O \n",
      "\n",
      "7 8 9 \n",
      "\n",
      "enter ur position7\n",
      "X O X \n",
      "\n",
      "O X O \n",
      "\n",
      "X 8 9 \n",
      "\n",
      "congratulation player1 has won the game\n"
     ]
    }
   ],
   "source": [
    "while True:\n",
    "    board=[0,1,2,3,4,5,6,7,8,9]\n",
    "    marker1,marker2=player_input()\n",
    "    turn=player_turn()\n",
    "    print(turn,\"will start the game\")\n",
    "    check=input(\"do you want to start the game,enter yes or no\").lower()\n",
    "    if(check==\"yes\"):\n",
    "        game_on=True\n",
    "    else:\n",
    "        game_on=False\n",
    "             \n",
    "    while game_on:\n",
    "        #player1's turn\n",
    "        if turn=='player1':\n",
    "            display(board)\n",
    "            position=player_choice(board)\n",
    "            place_marker(board,position,marker1)\n",
    "            check=check_win(board,marker1)\n",
    "            if check==True:\n",
    "                display(board)\n",
    "                print(\"congratulation player1 has won the game\")\n",
    "                game_on=False\n",
    "            else:\n",
    "                if full_board_check(board):\n",
    "                    print(\"the game is draw\")\n",
    "                    game_on=False\n",
    "                else:\n",
    "                    turn =\"player2\"\n",
    "        else:\n",
    "            display(board)\n",
    "            position=player_choice(board)\n",
    "            place_marker(board,position,marker2)\n",
    "            check=check_win(board,marker1)\n",
    "            if check==True:\n",
    "                display(board)\n",
    "                print(\"congratulation player2 has won the game\")\n",
    "                game_on=False\n",
    "            else:\n",
    "                if full_board_check(board):\n",
    "                    print(\"the game is draw\")\n",
    "                    game_on=False\n",
    "                else:\n",
    "                    turn =\"player1\"\n",
    "    if replay():\n",
    "        continue\n",
    "    else:\n",
    "        break\n",
    "    \n",
    "                    "
   ]
  },
  {
   "cell_type": "code",
   "execution_count": null,
   "metadata": {},
   "outputs": [],
   "source": []
  }
 ],
 "metadata": {
  "kernelspec": {
   "display_name": "Python 3",
   "language": "python",
   "name": "python3"
  },
  "language_info": {
   "codemirror_mode": {
    "name": "ipython",
    "version": 3
   },
   "file_extension": ".py",
   "mimetype": "text/x-python",
   "name": "python",
   "nbconvert_exporter": "python",
   "pygments_lexer": "ipython3",
   "version": "3.7.4"
  }
 },
 "nbformat": 4,
 "nbformat_minor": 2
}
